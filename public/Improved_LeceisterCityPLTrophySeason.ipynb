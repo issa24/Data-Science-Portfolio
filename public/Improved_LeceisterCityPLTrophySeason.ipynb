{
 "cells": [
  {
   "cell_type": "markdown",
   "id": "f5cb37c5",
   "metadata": {},
   "source": [
    "# Leicester City FC 2015/2016 Premier League Trophy Season\n",
    "\n",
    "## Introduction\n",
    "The 2015/2016 Premier League season was a historic and unforgettable one for Leicester City Football Club. Against all odds, with a 5000/1 chance of winning the title at the start of the season, Leicester City defied expectations and clinched their first-ever Premier League trophy. This notebook delves into the data behind this extraordinary achievement, analyzing the key factors that contributed to their success.\n",
    "\n",
    "In this project, we will explore Leicester City's performance throughout the season, examining their home and away records, key matches, and standout players. We will use various data visualization techniques to uncover insights and tell the story of this remarkable season.\n"
   ]
  },
  {
   "cell_type": "code",
   "execution_count": null,
   "id": "33d875fc",
   "metadata": {},
   "outputs": [],
   "source": [
    "# Importing necessary libraries\n",
    "import pandas as pd\n",
    "import matplotlib.pyplot as plt\n",
    "import seaborn as sns\n",
    "\n",
    "# Setting the visualisation style\n",
    "sns.set(style='whitegrid')\n"
   ]
  },
  {
   "cell_type": "markdown",
   "id": "67424868",
   "metadata": {},
   "source": [
    "## Data Loading and Overview\n",
    "We will start by loading the dataset and taking a first look at the data to understand its structure and contents.\n"
   ]
  },
  {
   "cell_type": "markdown",
   "id": "f136e37b",
   "metadata": {},
   "source": [
    "### Leicester City FC 2015/2016 Match Data\n",
    "We begin by loading the match data for the 2015/2016 season and examining its structure.\n"
   ]
  },
  {
   "cell_type": "code",
   "execution_count": null,
   "id": "33e3ed4a",
   "metadata": {},
   "outputs": [],
   "source": [
    "# Load the dataset\n",
    "data = pd.read_csv('leicester_city_2015_2016.csv')\n",
    "# Display the first few rows of the dataset\n",
    "data.head()\n"
   ]
  },
  {
   "cell_type": "code",
   "execution_count": null,
   "id": "60b42016",
   "metadata": {},
   "outputs": [],
   "source": [
    "# Basic statistics of the dataset\n",
    "data.describe()\n"
   ]
  },
  {
   "cell_type": "markdown",
   "id": "fd0bd1b3",
   "metadata": {},
   "source": [
    "### Leicester City's Home vs. Away Performance\n",
    "Next, we will analyze Leicester City's performance in home and away matches to identify patterns and key factors in their success.\n"
   ]
  },
  {
   "cell_type": "code",
   "execution_count": null,
   "id": "73ce77dc",
   "metadata": {},
   "outputs": [],
   "source": [
    "# Separate home and away matches\n",
    "home_matches = data[data['venue'] == 'Home']\n",
    "away_matches = data[data['venue'] == 'Away']\n",
    "# Summary statistics for home and away matches\n",
    "home_summary = home_matches.describe()\n",
    "away_summary = away_matches.describe()\n",
    "home_summary, away_summary\n"
   ]
  }
 ],
 "metadata": {},
 "nbformat": 4,
 "nbformat_minor": 5
}
